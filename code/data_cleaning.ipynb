{
 "cells": [
  {
   "cell_type": "markdown",
   "metadata": {},
   "source": [
    "# Data Cleaning"
   ]
  },
  {
   "cell_type": "code",
   "execution_count": 2,
   "metadata": {},
   "outputs": [],
   "source": [
    "import pandas as pd"
   ]
  },
  {
   "cell_type": "code",
   "execution_count": 4,
   "metadata": {},
   "outputs": [],
   "source": [
    "def read_in_data(topic, type_of_post):\n",
    "    \n",
    "    \"\"\"\n",
    "    Returns dataframe of specific topic and type of post with columns \"topic\" and \"text\"\n",
    "    \"\"\"\n",
    "    import pandas as pd\n",
    "    \n",
    "    if type_of_post == 'submissions':\n",
    "        df = pd.read_csv('../datasets/' + topic + '_submissions.csv', usecols=['subreddit', 'title'])\n",
    "        df.rename({'subreddit':'topic', 'title': 'text'}, axis=1 , inplace=True)\n",
    "        return df\n",
    "    elif type_of_post == 'comments':\n",
    "        df = pd.read_csv('../datasets/' + topic + '_comments.csv', usecols=['subreddit', 'body'])\n",
    "        df.rename({'subreddit':'topic', 'body': 'text'}, axis=1 , inplace=True)\n",
    "        return df\n",
    "    else:\n",
    "        print('Enter a topic and type of post')"
   ]
  },
  {
   "cell_type": "code",
   "execution_count": 5,
   "metadata": {},
   "outputs": [],
   "source": [
    "#Read in my data\n",
    "\n",
    "hiking_sub = read_in_data('hiking', 'submissions')\n",
    "hiking_com = read_in_data('hiking', 'comments')\n",
    "gardening_sub = read_in_data('gardening', 'submissions')\n",
    "gardening_com = read_in_data('gardening', 'comments')"
   ]
  },
  {
   "cell_type": "code",
   "execution_count": 6,
   "metadata": {},
   "outputs": [
    {
     "data": {
      "text/html": [
       "<div>\n",
       "<style scoped>\n",
       "    .dataframe tbody tr th:only-of-type {\n",
       "        vertical-align: middle;\n",
       "    }\n",
       "\n",
       "    .dataframe tbody tr th {\n",
       "        vertical-align: top;\n",
       "    }\n",
       "\n",
       "    .dataframe thead th {\n",
       "        text-align: right;\n",
       "    }\n",
       "</style>\n",
       "<table border=\"1\" class=\"dataframe\">\n",
       "  <thead>\n",
       "    <tr style=\"text-align: right;\">\n",
       "      <th></th>\n",
       "      <th>topic</th>\n",
       "      <th>text</th>\n",
       "    </tr>\n",
       "  </thead>\n",
       "  <tbody>\n",
       "    <tr>\n",
       "      <th>0</th>\n",
       "      <td>hiking</td>\n",
       "      <td>Boulder Flatiron Loop Hike</td>\n",
       "    </tr>\n",
       "    <tr>\n",
       "      <th>1</th>\n",
       "      <td>hiking</td>\n",
       "      <td>Washington state lakes to swim</td>\n",
       "    </tr>\n",
       "    <tr>\n",
       "      <th>2</th>\n",
       "      <td>hiking</td>\n",
       "      <td>Here's a fun episode, demonstrating why a fly-...</td>\n",
       "    </tr>\n",
       "    <tr>\n",
       "      <th>3</th>\n",
       "      <td>hiking</td>\n",
       "      <td>Picture I took of my friend at Angel’s Landing...</td>\n",
       "    </tr>\n",
       "    <tr>\n",
       "      <th>4</th>\n",
       "      <td>hiking</td>\n",
       "      <td>Hiking to Bertha Peak via Cougar Crest Trail a...</td>\n",
       "    </tr>\n",
       "  </tbody>\n",
       "</table>\n",
       "</div>"
      ],
      "text/plain": [
       "    topic                                               text\n",
       "0  hiking                         Boulder Flatiron Loop Hike\n",
       "1  hiking                     Washington state lakes to swim\n",
       "2  hiking  Here's a fun episode, demonstrating why a fly-...\n",
       "3  hiking  Picture I took of my friend at Angel’s Landing...\n",
       "4  hiking  Hiking to Bertha Peak via Cougar Crest Trail a..."
      ]
     },
     "execution_count": 6,
     "metadata": {},
     "output_type": "execute_result"
    }
   ],
   "source": [
    "# Check my dataframes\n",
    "\n",
    "hiking_sub.head()"
   ]
  },
  {
   "cell_type": "code",
   "execution_count": 7,
   "metadata": {},
   "outputs": [
    {
     "data": {
      "text/html": [
       "<div>\n",
       "<style scoped>\n",
       "    .dataframe tbody tr th:only-of-type {\n",
       "        vertical-align: middle;\n",
       "    }\n",
       "\n",
       "    .dataframe tbody tr th {\n",
       "        vertical-align: top;\n",
       "    }\n",
       "\n",
       "    .dataframe thead th {\n",
       "        text-align: right;\n",
       "    }\n",
       "</style>\n",
       "<table border=\"1\" class=\"dataframe\">\n",
       "  <thead>\n",
       "    <tr style=\"text-align: right;\">\n",
       "      <th></th>\n",
       "      <th>text</th>\n",
       "      <th>topic</th>\n",
       "    </tr>\n",
       "  </thead>\n",
       "  <tbody>\n",
       "    <tr>\n",
       "      <th>0</th>\n",
       "      <td>Dang I tried a month ago the snow was super de...</td>\n",
       "      <td>hiking</td>\n",
       "    </tr>\n",
       "    <tr>\n",
       "      <th>1</th>\n",
       "      <td>\\nI see you've posted an image.  Thanks for yo...</td>\n",
       "      <td>hiking</td>\n",
       "    </tr>\n",
       "    <tr>\n",
       "      <th>2</th>\n",
       "      <td>I can't tell what is more impressive: the wild...</td>\n",
       "      <td>hiking</td>\n",
       "    </tr>\n",
       "    <tr>\n",
       "      <th>3</th>\n",
       "      <td>This isn't part of  the Smokey Mountains. This...</td>\n",
       "      <td>hiking</td>\n",
       "    </tr>\n",
       "    <tr>\n",
       "      <th>4</th>\n",
       "      <td>I was just thinking about this the other day b...</td>\n",
       "      <td>hiking</td>\n",
       "    </tr>\n",
       "  </tbody>\n",
       "</table>\n",
       "</div>"
      ],
      "text/plain": [
       "                                                text   topic\n",
       "0  Dang I tried a month ago the snow was super de...  hiking\n",
       "1  \\nI see you've posted an image.  Thanks for yo...  hiking\n",
       "2  I can't tell what is more impressive: the wild...  hiking\n",
       "3  This isn't part of  the Smokey Mountains. This...  hiking\n",
       "4  I was just thinking about this the other day b...  hiking"
      ]
     },
     "execution_count": 7,
     "metadata": {},
     "output_type": "execute_result"
    }
   ],
   "source": [
    "hiking_com.head()"
   ]
  },
  {
   "cell_type": "code",
   "execution_count": 8,
   "metadata": {},
   "outputs": [
    {
     "data": {
      "text/html": [
       "<div>\n",
       "<style scoped>\n",
       "    .dataframe tbody tr th:only-of-type {\n",
       "        vertical-align: middle;\n",
       "    }\n",
       "\n",
       "    .dataframe tbody tr th {\n",
       "        vertical-align: top;\n",
       "    }\n",
       "\n",
       "    .dataframe thead th {\n",
       "        text-align: right;\n",
       "    }\n",
       "</style>\n",
       "<table border=\"1\" class=\"dataframe\">\n",
       "  <thead>\n",
       "    <tr style=\"text-align: right;\">\n",
       "      <th></th>\n",
       "      <th>topic</th>\n",
       "      <th>text</th>\n",
       "    </tr>\n",
       "  </thead>\n",
       "  <tbody>\n",
       "    <tr>\n",
       "      <th>0</th>\n",
       "      <td>gardening</td>\n",
       "      <td>What’s this in the middle of my bell pepper pl...</td>\n",
       "    </tr>\n",
       "    <tr>\n",
       "      <th>1</th>\n",
       "      <td>gardening</td>\n",
       "      <td>This weird lemon</td>\n",
       "    </tr>\n",
       "    <tr>\n",
       "      <th>2</th>\n",
       "      <td>gardening</td>\n",
       "      <td>My indoor zinnia bloomed!</td>\n",
       "    </tr>\n",
       "    <tr>\n",
       "      <th>3</th>\n",
       "      <td>gardening</td>\n",
       "      <td>Fungus? Dangerous?</td>\n",
       "    </tr>\n",
       "    <tr>\n",
       "      <th>4</th>\n",
       "      <td>gardening</td>\n",
       "      <td>Raise your hand if you're a chaotic gardener a...</td>\n",
       "    </tr>\n",
       "  </tbody>\n",
       "</table>\n",
       "</div>"
      ],
      "text/plain": [
       "       topic                                               text\n",
       "0  gardening  What’s this in the middle of my bell pepper pl...\n",
       "1  gardening                                   This weird lemon\n",
       "2  gardening                          My indoor zinnia bloomed!\n",
       "3  gardening                                 Fungus? Dangerous?\n",
       "4  gardening  Raise your hand if you're a chaotic gardener a..."
      ]
     },
     "execution_count": 8,
     "metadata": {},
     "output_type": "execute_result"
    }
   ],
   "source": [
    "gardening_sub.head()"
   ]
  },
  {
   "cell_type": "code",
   "execution_count": 9,
   "metadata": {},
   "outputs": [
    {
     "data": {
      "text/html": [
       "<div>\n",
       "<style scoped>\n",
       "    .dataframe tbody tr th:only-of-type {\n",
       "        vertical-align: middle;\n",
       "    }\n",
       "\n",
       "    .dataframe tbody tr th {\n",
       "        vertical-align: top;\n",
       "    }\n",
       "\n",
       "    .dataframe thead th {\n",
       "        text-align: right;\n",
       "    }\n",
       "</style>\n",
       "<table border=\"1\" class=\"dataframe\">\n",
       "  <thead>\n",
       "    <tr style=\"text-align: right;\">\n",
       "      <th></th>\n",
       "      <th>text</th>\n",
       "      <th>topic</th>\n",
       "    </tr>\n",
       "  </thead>\n",
       "  <tbody>\n",
       "    <tr>\n",
       "      <th>0</th>\n",
       "      <td>So cool!</td>\n",
       "      <td>gardening</td>\n",
       "    </tr>\n",
       "    <tr>\n",
       "      <th>1</th>\n",
       "      <td>I have a few more containers, but this is the ...</td>\n",
       "      <td>gardening</td>\n",
       "    </tr>\n",
       "    <tr>\n",
       "      <th>2</th>\n",
       "      <td>Maybe needs repotting in new soil.</td>\n",
       "      <td>gardening</td>\n",
       "    </tr>\n",
       "    <tr>\n",
       "      <th>3</th>\n",
       "      <td>Oh no. You or your neighbor need to sever the ...</td>\n",
       "      <td>gardening</td>\n",
       "    </tr>\n",
       "    <tr>\n",
       "      <th>4</th>\n",
       "      <td>Gorgeous collection</td>\n",
       "      <td>gardening</td>\n",
       "    </tr>\n",
       "  </tbody>\n",
       "</table>\n",
       "</div>"
      ],
      "text/plain": [
       "                                                text      topic\n",
       "0                                           So cool!  gardening\n",
       "1  I have a few more containers, but this is the ...  gardening\n",
       "2                 Maybe needs repotting in new soil.  gardening\n",
       "3  Oh no. You or your neighbor need to sever the ...  gardening\n",
       "4                                Gorgeous collection  gardening"
      ]
     },
     "execution_count": 9,
     "metadata": {},
     "output_type": "execute_result"
    }
   ],
   "source": [
    "gardening_com.head()"
   ]
  },
  {
   "cell_type": "code",
   "execution_count": 10,
   "metadata": {},
   "outputs": [],
   "source": [
    "#Merging all 4 dataframes\n",
    "\n",
    "postings = pd.concat([hiking_sub, gardening_sub, hiking_com, gardening_com], ignore_index=True)"
   ]
  },
  {
   "cell_type": "code",
   "execution_count": 11,
   "metadata": {},
   "outputs": [
    {
     "name": "stdout",
     "output_type": "stream",
     "text": [
      "<class 'pandas.core.frame.DataFrame'>\n",
      "RangeIndex: 12500 entries, 0 to 12499\n",
      "Data columns (total 2 columns):\n",
      " #   Column  Non-Null Count  Dtype \n",
      "---  ------  --------------  ----- \n",
      " 0   topic   12500 non-null  object\n",
      " 1   text    12500 non-null  object\n",
      "dtypes: object(2)\n",
      "memory usage: 195.4+ KB\n"
     ]
    }
   ],
   "source": [
    "postings.info()"
   ]
  },
  {
   "cell_type": "code",
   "execution_count": 12,
   "metadata": {},
   "outputs": [
    {
     "data": {
      "text/html": [
       "<div>\n",
       "<style scoped>\n",
       "    .dataframe tbody tr th:only-of-type {\n",
       "        vertical-align: middle;\n",
       "    }\n",
       "\n",
       "    .dataframe tbody tr th {\n",
       "        vertical-align: top;\n",
       "    }\n",
       "\n",
       "    .dataframe thead th {\n",
       "        text-align: right;\n",
       "    }\n",
       "</style>\n",
       "<table border=\"1\" class=\"dataframe\">\n",
       "  <thead>\n",
       "    <tr style=\"text-align: right;\">\n",
       "      <th></th>\n",
       "      <th>topic</th>\n",
       "      <th>text</th>\n",
       "    </tr>\n",
       "  </thead>\n",
       "  <tbody>\n",
       "    <tr>\n",
       "      <th>0</th>\n",
       "      <td>hiking</td>\n",
       "      <td>Boulder Flatiron Loop Hike</td>\n",
       "    </tr>\n",
       "    <tr>\n",
       "      <th>1</th>\n",
       "      <td>hiking</td>\n",
       "      <td>Washington state lakes to swim</td>\n",
       "    </tr>\n",
       "    <tr>\n",
       "      <th>2</th>\n",
       "      <td>hiking</td>\n",
       "      <td>Here's a fun episode, demonstrating why a fly-...</td>\n",
       "    </tr>\n",
       "    <tr>\n",
       "      <th>3</th>\n",
       "      <td>hiking</td>\n",
       "      <td>Picture I took of my friend at Angel’s Landing...</td>\n",
       "    </tr>\n",
       "    <tr>\n",
       "      <th>4</th>\n",
       "      <td>hiking</td>\n",
       "      <td>Hiking to Bertha Peak via Cougar Crest Trail a...</td>\n",
       "    </tr>\n",
       "    <tr>\n",
       "      <th>...</th>\n",
       "      <td>...</td>\n",
       "      <td>...</td>\n",
       "    </tr>\n",
       "    <tr>\n",
       "      <th>12495</th>\n",
       "      <td>gardening</td>\n",
       "      <td>I'm transitioning to everbearing in strawberry...</td>\n",
       "    </tr>\n",
       "    <tr>\n",
       "      <th>12496</th>\n",
       "      <td>gardening</td>\n",
       "      <td>So pretty</td>\n",
       "    </tr>\n",
       "    <tr>\n",
       "      <th>12497</th>\n",
       "      <td>gardening</td>\n",
       "      <td>I think it’s 30% chance of frost after that date.</td>\n",
       "    </tr>\n",
       "    <tr>\n",
       "      <th>12498</th>\n",
       "      <td>gardening</td>\n",
       "      <td>My understanding is that the caterpillars eat ...</td>\n",
       "    </tr>\n",
       "    <tr>\n",
       "      <th>12499</th>\n",
       "      <td>gardening</td>\n",
       "      <td>[deleted]</td>\n",
       "    </tr>\n",
       "  </tbody>\n",
       "</table>\n",
       "<p>12500 rows × 2 columns</p>\n",
       "</div>"
      ],
      "text/plain": [
       "           topic                                               text\n",
       "0         hiking                         Boulder Flatiron Loop Hike\n",
       "1         hiking                     Washington state lakes to swim\n",
       "2         hiking  Here's a fun episode, demonstrating why a fly-...\n",
       "3         hiking  Picture I took of my friend at Angel’s Landing...\n",
       "4         hiking  Hiking to Bertha Peak via Cougar Crest Trail a...\n",
       "...          ...                                                ...\n",
       "12495  gardening  I'm transitioning to everbearing in strawberry...\n",
       "12496  gardening                                          So pretty\n",
       "12497  gardening  I think it’s 30% chance of frost after that date.\n",
       "12498  gardening  My understanding is that the caterpillars eat ...\n",
       "12499  gardening                                          [deleted]\n",
       "\n",
       "[12500 rows x 2 columns]"
      ]
     },
     "execution_count": 12,
     "metadata": {},
     "output_type": "execute_result"
    }
   ],
   "source": [
    "postings"
   ]
  },
  {
   "cell_type": "code",
   "execution_count": 13,
   "metadata": {},
   "outputs": [
    {
     "data": {
      "text/plain": [
       "hiking       7000\n",
       "gardening    5500\n",
       "Name: topic, dtype: int64"
      ]
     },
     "execution_count": 13,
     "metadata": {},
     "output_type": "execute_result"
    }
   ],
   "source": [
    "postings['topic'].value_counts()"
   ]
  },
  {
   "cell_type": "code",
   "execution_count": 14,
   "metadata": {},
   "outputs": [],
   "source": [
    "#Save this file before I clean\n",
    "\n",
    "postings.to_csv('../datasets/postings.csv', index=False)"
   ]
  },
  {
   "cell_type": "code",
   "execution_count": 15,
   "metadata": {},
   "outputs": [
    {
     "data": {
      "text/plain": [
       "topic      text     \n",
       "gardening  [deleted]    33\n",
       "hiking     [deleted]    14\n",
       "dtype: int64"
      ]
     },
     "execution_count": 15,
     "metadata": {},
     "output_type": "execute_result"
    }
   ],
   "source": [
    "#Check for deleted posts\n",
    "\n",
    "postings[postings['text'] == '[deleted]'].value_counts()"
   ]
  },
  {
   "cell_type": "code",
   "execution_count": 16,
   "metadata": {},
   "outputs": [],
   "source": [
    "# Delete the above 47 deleted posts:\n",
    "\n",
    "postings.drop(postings[postings['text'] == '[deleted]'].index, inplace = True)"
   ]
  },
  {
   "cell_type": "code",
   "execution_count": 17,
   "metadata": {},
   "outputs": [
    {
     "name": "stdout",
     "output_type": "stream",
     "text": [
      "<class 'pandas.core.frame.DataFrame'>\n",
      "Int64Index: 12453 entries, 0 to 12498\n",
      "Data columns (total 2 columns):\n",
      " #   Column  Non-Null Count  Dtype \n",
      "---  ------  --------------  ----- \n",
      " 0   topic   12453 non-null  object\n",
      " 1   text    12453 non-null  object\n",
      "dtypes: object(2)\n",
      "memory usage: 291.9+ KB\n"
     ]
    }
   ],
   "source": [
    "postings.info()"
   ]
  },
  {
   "cell_type": "code",
   "execution_count": 18,
   "metadata": {},
   "outputs": [
    {
     "data": {
      "text/plain": [
       "Series([], dtype: int64)"
      ]
     },
     "execution_count": 18,
     "metadata": {},
     "output_type": "execute_result"
    }
   ],
   "source": [
    "# Confirm that deleted posts were indeed dropped\n",
    "\n",
    "postings[postings['text'] == '[deleted]'].value_counts()"
   ]
  },
  {
   "cell_type": "code",
   "execution_count": 19,
   "metadata": {},
   "outputs": [
    {
     "data": {
      "text/plain": [
       "\\nI see you've posted an image.  Thanks for your contribution!\\n\\n*Did you included the* ***required*** *title information?*  **[Your text.] [Most Specific place], [Specific place], [General place], [COUNTRY].**  \\n      \\nIf you didn't include this information, please delete your post and resubmit it.  **Your post will be removed without warning if it does not follow this rule!**\\n\\n\\n*I am a bot, and this action was performed automatically. Please [contact the moderators of this subreddit](/message/compose/?to=/r/hiking) if you have any questions or concerns.*    183\n",
       "Thank you!                                                                                                                                                                                                                                                                                                                                                                                                                                                                                                                                                                                   19\n",
       "r/hikersfriend                                                                                                                                                                                                                                                                                                                                                                                                                                                                                                                                                                               13\n",
       "Thanks!                                                                                                                                                                                                                                                                                                                                                                                                                                                                                                                                                                                      12\n",
       "Your post was removed due to your account being new. Please wait until your account is 1 day old before you post again. Or try messaging the moderators for approval.\\n\\n*I am a bot, and this action was performed automatically. Please [contact the moderators of this subreddit](/message/compose/?to=/r/hiking) if you have any questions or concerns.*                                                                                                                                                                                                                                 11\n",
       "                                                                                                                                                                                                                                                                                                                                                                                                                                                                                                                                                                                           ... \n",
       "Wow beautiful                                                                                                                                                                                                                                                                                                                                                                                                                                                                                                                                                                                 1\n",
       "So tell me about your hose...                                                                                                                                                                                                                                                                                                                                                                                                                                                                                                                                                                 1\n",
       "Possible Interview for a Research Paper                                                                                                                                                                                                                                                                                                                                                                                                                                                                                                                                                       1\n",
       "My mom’s iceberg rose tree, we’re still learning how to prune                                                                                                                                                                                                                                                                                                                                                                                                                                                                                                                                 1\n",
       "haha                                                                                                                                                                                                                                                                                                                                                                                                                                                                                                                                                                                          1\n",
       "Name: text, Length: 11920, dtype: int64"
      ]
     },
     "execution_count": 19,
     "metadata": {},
     "output_type": "execute_result"
    }
   ],
   "source": [
    "postings['text'].value_counts()"
   ]
  },
  {
   "cell_type": "code",
   "execution_count": 20,
   "metadata": {},
   "outputs": [
    {
     "data": {
      "text/plain": [
       "hiking       6986\n",
       "gardening    5467\n",
       "Name: topic, dtype: int64"
      ]
     },
     "execution_count": 20,
     "metadata": {},
     "output_type": "execute_result"
    }
   ],
   "source": [
    "postings['topic'].value_counts()"
   ]
  },
  {
   "cell_type": "code",
   "execution_count": 21,
   "metadata": {},
   "outputs": [],
   "source": [
    "#Save this file after I minimally cleaned it\n",
    "\n",
    "postings.to_csv('../datasets/postings_minimally_cleaned.csv', index=False)"
   ]
  },
  {
   "cell_type": "code",
   "execution_count": null,
   "metadata": {},
   "outputs": [],
   "source": [
    "# Now into deep data cleaning..."
   ]
  },
  {
   "cell_type": "code",
   "execution_count": 22,
   "metadata": {},
   "outputs": [],
   "source": [
    "#Delete \"text\" duplicates\n",
    "postings.drop_duplicates(subset='text', inplace=True, ignore_index=True)"
   ]
  },
  {
   "cell_type": "code",
   "execution_count": 23,
   "metadata": {},
   "outputs": [
    {
     "data": {
      "text/html": [
       "<div>\n",
       "<style scoped>\n",
       "    .dataframe tbody tr th:only-of-type {\n",
       "        vertical-align: middle;\n",
       "    }\n",
       "\n",
       "    .dataframe tbody tr th {\n",
       "        vertical-align: top;\n",
       "    }\n",
       "\n",
       "    .dataframe thead th {\n",
       "        text-align: right;\n",
       "    }\n",
       "</style>\n",
       "<table border=\"1\" class=\"dataframe\">\n",
       "  <thead>\n",
       "    <tr style=\"text-align: right;\">\n",
       "      <th></th>\n",
       "      <th>topic</th>\n",
       "      <th>text</th>\n",
       "    </tr>\n",
       "  </thead>\n",
       "  <tbody>\n",
       "    <tr>\n",
       "      <th>0</th>\n",
       "      <td>hiking</td>\n",
       "      <td>Boulder Flatiron Loop Hike</td>\n",
       "    </tr>\n",
       "    <tr>\n",
       "      <th>1</th>\n",
       "      <td>hiking</td>\n",
       "      <td>Washington state lakes to swim</td>\n",
       "    </tr>\n",
       "    <tr>\n",
       "      <th>2</th>\n",
       "      <td>hiking</td>\n",
       "      <td>Here's a fun episode, demonstrating why a fly-...</td>\n",
       "    </tr>\n",
       "    <tr>\n",
       "      <th>3</th>\n",
       "      <td>hiking</td>\n",
       "      <td>Picture I took of my friend at Angel’s Landing...</td>\n",
       "    </tr>\n",
       "    <tr>\n",
       "      <th>4</th>\n",
       "      <td>hiking</td>\n",
       "      <td>Hiking to Bertha Peak via Cougar Crest Trail a...</td>\n",
       "    </tr>\n",
       "    <tr>\n",
       "      <th>...</th>\n",
       "      <td>...</td>\n",
       "      <td>...</td>\n",
       "    </tr>\n",
       "    <tr>\n",
       "      <th>11915</th>\n",
       "      <td>gardening</td>\n",
       "      <td>Nope haha Oklahoma so not too far away.</td>\n",
       "    </tr>\n",
       "    <tr>\n",
       "      <th>11916</th>\n",
       "      <td>gardening</td>\n",
       "      <td>I'm transitioning to everbearing in strawberry...</td>\n",
       "    </tr>\n",
       "    <tr>\n",
       "      <th>11917</th>\n",
       "      <td>gardening</td>\n",
       "      <td>So pretty</td>\n",
       "    </tr>\n",
       "    <tr>\n",
       "      <th>11918</th>\n",
       "      <td>gardening</td>\n",
       "      <td>I think it’s 30% chance of frost after that date.</td>\n",
       "    </tr>\n",
       "    <tr>\n",
       "      <th>11919</th>\n",
       "      <td>gardening</td>\n",
       "      <td>My understanding is that the caterpillars eat ...</td>\n",
       "    </tr>\n",
       "  </tbody>\n",
       "</table>\n",
       "<p>11920 rows × 2 columns</p>\n",
       "</div>"
      ],
      "text/plain": [
       "           topic                                               text\n",
       "0         hiking                         Boulder Flatiron Loop Hike\n",
       "1         hiking                     Washington state lakes to swim\n",
       "2         hiking  Here's a fun episode, demonstrating why a fly-...\n",
       "3         hiking  Picture I took of my friend at Angel’s Landing...\n",
       "4         hiking  Hiking to Bertha Peak via Cougar Crest Trail a...\n",
       "...          ...                                                ...\n",
       "11915  gardening            Nope haha Oklahoma so not too far away.\n",
       "11916  gardening  I'm transitioning to everbearing in strawberry...\n",
       "11917  gardening                                          So pretty\n",
       "11918  gardening  I think it’s 30% chance of frost after that date.\n",
       "11919  gardening  My understanding is that the caterpillars eat ...\n",
       "\n",
       "[11920 rows x 2 columns]"
      ]
     },
     "execution_count": 23,
     "metadata": {},
     "output_type": "execute_result"
    }
   ],
   "source": [
    "postings"
   ]
  },
  {
   "cell_type": "code",
   "execution_count": 24,
   "metadata": {},
   "outputs": [],
   "source": [
    "#Remove URLs #inspired by https://stackoverflow.com/questions/51994254/removing-url-from-a-column-in-pandas-dataframe/51994366\n",
    "\n",
    "postings['text'] = postings['text'].str.replace('http[s]?://(?:[a-zA-Z]|[0-9]|[$-_@.&+]|[!*\\(\\),]|(?:%[0-9a-fA-F][0-9a-fA-F]))+', ' ')"
   ]
  },
  {
   "cell_type": "code",
   "execution_count": 25,
   "metadata": {},
   "outputs": [
    {
     "data": {
      "text/plain": [
       "False"
      ]
     },
     "execution_count": 25,
     "metadata": {},
     "output_type": "execute_result"
    }
   ],
   "source": [
    "#Check to confirm removal\n",
    "\n",
    "postings['text'].str.contains('https://www.thespruce.com/free-seed-catalogs-1357756').any()"
   ]
  },
  {
   "cell_type": "code",
   "execution_count": 26,
   "metadata": {},
   "outputs": [],
   "source": [
    "#Remove other unneccesarry character groupings:\n",
    "\n",
    "postings['text'] = postings['text'].str.replace('\\n\\n&amp;#x200B;\\n\\n', ' ')\n",
    "postings['text'] = postings['text'].str.replace('\\n', ' ')\n",
    "postings['text'] = postings['text'].str.replace('&amp;', ' ')\n",
    "postings['text'] = postings['text'].str.replace('&amp', ' ')\n",
    "postings['text'] = postings['text'].str.replace('&gt;', ' ')\n",
    "postings['text'] = postings['text'].str.replace('/r/', ' ')\n",
    "postings['text'] = postings['text'].str.replace('#羊台叠翠', ' ')"
   ]
  },
  {
   "cell_type": "code",
   "execution_count": 27,
   "metadata": {},
   "outputs": [
    {
     "data": {
      "text/plain": [
       "False"
      ]
     },
     "execution_count": 27,
     "metadata": {},
     "output_type": "execute_result"
    }
   ],
   "source": [
    "#Check to confirm removal\n",
    "\n",
    "postings['text'].str.contains('#羊台叠翠').any()"
   ]
  },
  {
   "cell_type": "code",
   "execution_count": 28,
   "metadata": {},
   "outputs": [],
   "source": [
    "#inspired by https://machinelearningmastery.com/clean-text-machine-learning-python/"
   ]
  },
  {
   "cell_type": "code",
   "execution_count": 29,
   "metadata": {},
   "outputs": [],
   "source": [
    "from nltk.tokenize import word_tokenize"
   ]
  },
  {
   "cell_type": "code",
   "execution_count": 30,
   "metadata": {},
   "outputs": [],
   "source": [
    "#Make text lowercase and remove punctuation marks\n",
    "\n",
    "def lowercase_and_remove_punctuation(sentence):\n",
    "    lower_case_sentence = sentence.lower()\n",
    "    sentence_split = word_tokenize(lower_case_sentence)\n",
    "    clean_split = [word for word in sentence_split if word.isalpha()]\n",
    "    clean_join = ' '.join(clean_split)\n",
    "    final_string = str(clean_join)\n",
    "    return clean_join"
   ]
  },
  {
   "cell_type": "code",
   "execution_count": 31,
   "metadata": {},
   "outputs": [],
   "source": [
    "postings['text'] = postings['text'].apply(lowercase_and_remove_punctuation)"
   ]
  },
  {
   "cell_type": "code",
   "execution_count": 32,
   "metadata": {},
   "outputs": [
    {
     "data": {
      "text/html": [
       "<div>\n",
       "<style scoped>\n",
       "    .dataframe tbody tr th:only-of-type {\n",
       "        vertical-align: middle;\n",
       "    }\n",
       "\n",
       "    .dataframe tbody tr th {\n",
       "        vertical-align: top;\n",
       "    }\n",
       "\n",
       "    .dataframe thead th {\n",
       "        text-align: right;\n",
       "    }\n",
       "</style>\n",
       "<table border=\"1\" class=\"dataframe\">\n",
       "  <thead>\n",
       "    <tr style=\"text-align: right;\">\n",
       "      <th></th>\n",
       "      <th>topic</th>\n",
       "      <th>text</th>\n",
       "    </tr>\n",
       "  </thead>\n",
       "  <tbody>\n",
       "    <tr>\n",
       "      <th>478</th>\n",
       "      <td>hiking</td>\n",
       "      <td></td>\n",
       "    </tr>\n",
       "    <tr>\n",
       "      <th>583</th>\n",
       "      <td>hiking</td>\n",
       "      <td></td>\n",
       "    </tr>\n",
       "    <tr>\n",
       "      <th>854</th>\n",
       "      <td>hiking</td>\n",
       "      <td></td>\n",
       "    </tr>\n",
       "    <tr>\n",
       "      <th>957</th>\n",
       "      <td>hiking</td>\n",
       "      <td></td>\n",
       "    </tr>\n",
       "    <tr>\n",
       "      <th>1011</th>\n",
       "      <td>hiking</td>\n",
       "      <td></td>\n",
       "    </tr>\n",
       "    <tr>\n",
       "      <th>...</th>\n",
       "      <td>...</td>\n",
       "      <td>...</td>\n",
       "    </tr>\n",
       "    <tr>\n",
       "      <th>11396</th>\n",
       "      <td>gardening</td>\n",
       "      <td></td>\n",
       "    </tr>\n",
       "    <tr>\n",
       "      <th>11436</th>\n",
       "      <td>gardening</td>\n",
       "      <td></td>\n",
       "    </tr>\n",
       "    <tr>\n",
       "      <th>11837</th>\n",
       "      <td>gardening</td>\n",
       "      <td></td>\n",
       "    </tr>\n",
       "    <tr>\n",
       "      <th>11847</th>\n",
       "      <td>gardening</td>\n",
       "      <td></td>\n",
       "    </tr>\n",
       "    <tr>\n",
       "      <th>11857</th>\n",
       "      <td>gardening</td>\n",
       "      <td></td>\n",
       "    </tr>\n",
       "  </tbody>\n",
       "</table>\n",
       "<p>63 rows × 2 columns</p>\n",
       "</div>"
      ],
      "text/plain": [
       "           topic text\n",
       "478       hiking     \n",
       "583       hiking     \n",
       "854       hiking     \n",
       "957       hiking     \n",
       "1011      hiking     \n",
       "...          ...  ...\n",
       "11396  gardening     \n",
       "11436  gardening     \n",
       "11837  gardening     \n",
       "11847  gardening     \n",
       "11857  gardening     \n",
       "\n",
       "[63 rows x 2 columns]"
      ]
     },
     "execution_count": 32,
     "metadata": {},
     "output_type": "execute_result"
    }
   ],
   "source": [
    "#Check for '' after cleaning\n",
    "\n",
    "postings[postings['text']=='']"
   ]
  },
  {
   "cell_type": "code",
   "execution_count": 33,
   "metadata": {},
   "outputs": [],
   "source": [
    "# Delete the above 63 empty posts:\n",
    "\n",
    "postings.drop(postings[postings['text'] == ''].index, inplace = True)"
   ]
  },
  {
   "cell_type": "code",
   "execution_count": 34,
   "metadata": {},
   "outputs": [
    {
     "data": {
      "text/plain": [
       "hiking       6581\n",
       "gardening    5276\n",
       "Name: topic, dtype: int64"
      ]
     },
     "execution_count": 34,
     "metadata": {},
     "output_type": "execute_result"
    }
   ],
   "source": [
    "postings['topic'].value_counts()"
   ]
  },
  {
   "cell_type": "code",
   "execution_count": 35,
   "metadata": {},
   "outputs": [
    {
     "data": {
      "text/plain": [
       "11857"
      ]
     },
     "execution_count": 35,
     "metadata": {},
     "output_type": "execute_result"
    }
   ],
   "source": [
    "postings['topic'].value_counts().sum()"
   ]
  },
  {
   "cell_type": "code",
   "execution_count": 135,
   "metadata": {},
   "outputs": [],
   "source": [
    "#Save this file after I cleaned it\n",
    "\n",
    "postings.to_csv('../datasets/postings_cleaned.csv', index=False)"
   ]
  }
 ],
 "metadata": {
  "kernelspec": {
   "display_name": "Python 3",
   "language": "python",
   "name": "python3"
  },
  "language_info": {
   "codemirror_mode": {
    "name": "ipython",
    "version": 3
   },
   "file_extension": ".py",
   "mimetype": "text/x-python",
   "name": "python",
   "nbconvert_exporter": "python",
   "pygments_lexer": "ipython3",
   "version": "3.9.4"
  }
 },
 "nbformat": 4,
 "nbformat_minor": 4
}
